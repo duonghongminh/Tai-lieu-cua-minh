{
 "cells": [
  {
   "cell_type": "code",
   "execution_count": null,
   "id": "aa8ba6d4",
   "metadata": {},
   "outputs": [],
   "source": [
    "import turtle\n",
    "t = turtle.Turtle()\n",
    "t.shapesize(1)\n",
    "t.pensize(6)\n",
    "t.begin_fill()\n",
    "t.pencolor(\"pink\")\n",
    "\n",
    "t.fillcolor(\"blue\")\n",
    "t.circle(100)\n",
    "t.end_fill()"
   ]
  }
 ],
 "metadata": {
  "kernelspec": {
   "display_name": "Python 3 (ipykernel)",
   "language": "python",
   "name": "python3"
  },
  "language_info": {
   "codemirror_mode": {
    "name": "ipython",
    "version": 3
   },
   "file_extension": ".py",
   "mimetype": "text/x-python",
   "name": "python",
   "nbconvert_exporter": "python",
   "pygments_lexer": "ipython3",
   "version": "3.9.7"
  }
 },
 "nbformat": 4,
 "nbformat_minor": 5
}
